{
  "nbformat": 4,
  "nbformat_minor": 0,
  "metadata": {
    "colab": {
      "provenance": []
    },
    "kernelspec": {
      "name": "python3",
      "display_name": "Python 3"
    },
    "language_info": {
      "name": "python"
    }
  },
  "cells": [
    {
      "cell_type": "markdown",
      "source": [
        "DATA PREPROCESSING\n"
      ],
      "metadata": {
        "id": "t3wCHZZKEPaR"
      }
    },
    {
      "cell_type": "code",
      "execution_count": 173,
      "metadata": {
        "id": "vkuayiyzBoth"
      },
      "outputs": [],
      "source": [
        "import pandas as pd\n",
        "import numpy as np\n",
        "import matplotlib.pyplot as plt\n",
        "import math\n",
        "from scipy import stats\n",
        "from scipy.special import factorial\n",
        "from matplotlib import pyplot as plt\n",
        "from sklearn.feature_selection import SelectKBest\n",
        "from sklearn.feature_selection import f_regression\n",
        "import scipy.stats as stats\n",
        "from scipy.stats import ks_2samp\n",
        "from sklearn.discriminant_analysis import LinearDiscriminantAnalysis\n",
        "from sklearn.model_selection import train_test_split\n",
        "from sklearn.metrics import accuracy_score\n",
        "import tensorflow as tf\n",
        "from tensorflow.python import feature_column\n",
        "from imblearn.under_sampling import RandomUnderSampler\n",
        "from tensorflow import keras\n",
        "from tensorflow.keras import layers\n",
        "from sklearn import svm\n",
        "from sklearn.svm import SVC\n",
        "from sklearn.model_selection import GridSearchCV\n",
        "from sklearn.inspection import permutation_importance\n",
        "from sklearn.metrics import classification_report\n",
        "import scipy.integrate\n",
        "import statsmodels.api as sm\n",
        "import scipy.stats as st\n",
        "import matplotlib.pyplot as plt"
      ]
    },
    {
      "cell_type": "code",
      "source": [
        "from google.colab import drive\n",
        "drive.mount('/content/drive')"
      ],
      "metadata": {
        "colab": {
          "base_uri": "https://localhost:8080/",
          "height": 0
        },
        "id": "A4d9f9sFCROs",
        "outputId": "a5c446db-2a8d-4fdc-a479-7c4d347ea0f5"
      },
      "execution_count": 109,
      "outputs": [
        {
          "output_type": "stream",
          "name": "stdout",
          "text": [
            "Drive already mounted at /content/drive; to attempt to forcibly remount, call drive.mount(\"/content/drive\", force_remount=True).\n"
          ]
        }
      ]
    },
    {
      "cell_type": "code",
      "source": [
        "df = pd.read_csv('/content/drive/MyDrive/AMML_dataset-_1_.csv')"
      ],
      "metadata": {
        "id": "f-qWf4w8CgfW"
      },
      "execution_count": 110,
      "outputs": []
    },
    {
      "cell_type": "code",
      "source": [
        "# This removes all the missing data rows\n",
        "\n",
        "for col in df.columns:\n",
        "  df = df[df[col] != 0] # we are simply copying all rows which do not contain a null value.\n",
        "\n",
        "for col in df.columns:\n",
        "  df= df[df[col] != 'MD'] # similar as above we are copying all rows which do not contain a MDvalue"
      ],
      "metadata": {
        "id": "Q5L4mOBYDdiL"
      },
      "execution_count": 111,
      "outputs": []
    },
    {
      "cell_type": "code",
      "source": [
        "#converting certain columns to numeric data type\n",
        "df['Quantitative Ability 1'] = pd.to_numeric(df['Quantitative Ability 1'])\n",
        "df['Domain Skills 1'] = pd.to_numeric(df['Domain Skills 1'])\n",
        "df['Analytical Skills 1'] = pd.to_numeric(df['Analytical Skills 1'])"
      ],
      "metadata": {
        "id": "oVvwV6njE0Zy"
      },
      "execution_count": 112,
      "outputs": []
    },
    {
      "cell_type": "code",
      "source": [
        "label_encoder = preprocessing.LabelEncoder()\n",
        "\n",
        "for column_name in df.columns:\n",
        "  if df[column_name].dtypes == 'object':   #this chooses only those columns that are of type object\n",
        "     df[column_name] = label_encoder.fit_transform(df[column_name])   #this is the encoding"
      ],
      "metadata": {
        "id": "uEtl6D24FFMl"
      },
      "execution_count": 113,
      "outputs": []
    },
    {
      "cell_type": "code",
      "source": [
        "df.head()"
      ],
      "metadata": {
        "colab": {
          "base_uri": "https://localhost:8080/",
          "height": 332
        },
        "id": "mHbj6O3eGk2c",
        "outputId": "07d94d22-2676-4c13-8442-9171b0e34e6e"
      },
      "execution_count": 114,
      "outputs": [
        {
          "output_type": "execute_result",
          "data": {
            "text/plain": [
              "   Candidate ID  Name  Number of characters in Original Name  Month of Birth  \\\n",
              "0             5   209                                     18               7   \n",
              "1             9    43                                     17               4   \n",
              "2            13   335                                     10               0   \n",
              "3            14   321                                     10               5   \n",
              "4            15   234                                     12               9   \n",
              "\n",
              "   Year of Birth  Gender  State (Location)  10th percentage  12th percentage  \\\n",
              "0              6       1                 0            90.30            96.00   \n",
              "1              5       0                 3            85.00            65.33   \n",
              "2              6       1                 0            77.40            81.80   \n",
              "3              6       1                 4            90.16            95.30   \n",
              "4              5       0                 0            86.50            85.40   \n",
              "\n",
              "   10th Completion Year  ...  Quantitative Ability 3  Quantitative Ability 4  \\\n",
              "0                     4  ...               47.486034               49.132948   \n",
              "1                     3  ...               62.011173               53.757225   \n",
              "2                     4  ...               76.536313               54.913295   \n",
              "3                     4  ...               57.541899               46.820809   \n",
              "4                     4  ...               57.541899               58.381503   \n",
              "\n",
              "   Domain Skills 1  Domain Skills 2  Domain Test 3  Domain Test 4  \\\n",
              "0        21.428571        45.323741      43.448276      54.744526   \n",
              "1        32.142857        52.517986      61.379310      51.824818   \n",
              "2        58.928571        75.539568      71.034483      70.802920   \n",
              "3        42.857143        71.223022      53.103448      56.204380   \n",
              "4        46.428571        68.345324      55.862069      70.802920   \n",
              "\n",
              "   Analytical Skills 1  Analytical Skills 2  Analytical Skills 3  Performance  \n",
              "0            60.000000            58.227848            72.413793            2  \n",
              "1            63.636364            37.974684            83.908046            1  \n",
              "2            70.909091            73.417722            70.114943            0  \n",
              "3            40.000000            65.822785            28.735632            0  \n",
              "4            76.363636            68.354430            79.310345            0  \n",
              "\n",
              "[5 rows x 31 columns]"
            ],
            "text/html": [
              "\n",
              "  <div id=\"df-bb597bad-20b1-40a6-ae94-36c3341f8a42\">\n",
              "    <div class=\"colab-df-container\">\n",
              "      <div>\n",
              "<style scoped>\n",
              "    .dataframe tbody tr th:only-of-type {\n",
              "        vertical-align: middle;\n",
              "    }\n",
              "\n",
              "    .dataframe tbody tr th {\n",
              "        vertical-align: top;\n",
              "    }\n",
              "\n",
              "    .dataframe thead th {\n",
              "        text-align: right;\n",
              "    }\n",
              "</style>\n",
              "<table border=\"1\" class=\"dataframe\">\n",
              "  <thead>\n",
              "    <tr style=\"text-align: right;\">\n",
              "      <th></th>\n",
              "      <th>Candidate ID</th>\n",
              "      <th>Name</th>\n",
              "      <th>Number of characters in Original Name</th>\n",
              "      <th>Month of Birth</th>\n",
              "      <th>Year of Birth</th>\n",
              "      <th>Gender</th>\n",
              "      <th>State (Location)</th>\n",
              "      <th>10th percentage</th>\n",
              "      <th>12th percentage</th>\n",
              "      <th>10th Completion Year</th>\n",
              "      <th>...</th>\n",
              "      <th>Quantitative Ability 3</th>\n",
              "      <th>Quantitative Ability 4</th>\n",
              "      <th>Domain Skills 1</th>\n",
              "      <th>Domain Skills 2</th>\n",
              "      <th>Domain Test 3</th>\n",
              "      <th>Domain Test 4</th>\n",
              "      <th>Analytical Skills 1</th>\n",
              "      <th>Analytical Skills 2</th>\n",
              "      <th>Analytical Skills 3</th>\n",
              "      <th>Performance</th>\n",
              "    </tr>\n",
              "  </thead>\n",
              "  <tbody>\n",
              "    <tr>\n",
              "      <th>0</th>\n",
              "      <td>5</td>\n",
              "      <td>209</td>\n",
              "      <td>18</td>\n",
              "      <td>7</td>\n",
              "      <td>6</td>\n",
              "      <td>1</td>\n",
              "      <td>0</td>\n",
              "      <td>90.30</td>\n",
              "      <td>96.00</td>\n",
              "      <td>4</td>\n",
              "      <td>...</td>\n",
              "      <td>47.486034</td>\n",
              "      <td>49.132948</td>\n",
              "      <td>21.428571</td>\n",
              "      <td>45.323741</td>\n",
              "      <td>43.448276</td>\n",
              "      <td>54.744526</td>\n",
              "      <td>60.000000</td>\n",
              "      <td>58.227848</td>\n",
              "      <td>72.413793</td>\n",
              "      <td>2</td>\n",
              "    </tr>\n",
              "    <tr>\n",
              "      <th>1</th>\n",
              "      <td>9</td>\n",
              "      <td>43</td>\n",
              "      <td>17</td>\n",
              "      <td>4</td>\n",
              "      <td>5</td>\n",
              "      <td>0</td>\n",
              "      <td>3</td>\n",
              "      <td>85.00</td>\n",
              "      <td>65.33</td>\n",
              "      <td>3</td>\n",
              "      <td>...</td>\n",
              "      <td>62.011173</td>\n",
              "      <td>53.757225</td>\n",
              "      <td>32.142857</td>\n",
              "      <td>52.517986</td>\n",
              "      <td>61.379310</td>\n",
              "      <td>51.824818</td>\n",
              "      <td>63.636364</td>\n",
              "      <td>37.974684</td>\n",
              "      <td>83.908046</td>\n",
              "      <td>1</td>\n",
              "    </tr>\n",
              "    <tr>\n",
              "      <th>2</th>\n",
              "      <td>13</td>\n",
              "      <td>335</td>\n",
              "      <td>10</td>\n",
              "      <td>0</td>\n",
              "      <td>6</td>\n",
              "      <td>1</td>\n",
              "      <td>0</td>\n",
              "      <td>77.40</td>\n",
              "      <td>81.80</td>\n",
              "      <td>4</td>\n",
              "      <td>...</td>\n",
              "      <td>76.536313</td>\n",
              "      <td>54.913295</td>\n",
              "      <td>58.928571</td>\n",
              "      <td>75.539568</td>\n",
              "      <td>71.034483</td>\n",
              "      <td>70.802920</td>\n",
              "      <td>70.909091</td>\n",
              "      <td>73.417722</td>\n",
              "      <td>70.114943</td>\n",
              "      <td>0</td>\n",
              "    </tr>\n",
              "    <tr>\n",
              "      <th>3</th>\n",
              "      <td>14</td>\n",
              "      <td>321</td>\n",
              "      <td>10</td>\n",
              "      <td>5</td>\n",
              "      <td>6</td>\n",
              "      <td>1</td>\n",
              "      <td>4</td>\n",
              "      <td>90.16</td>\n",
              "      <td>95.30</td>\n",
              "      <td>4</td>\n",
              "      <td>...</td>\n",
              "      <td>57.541899</td>\n",
              "      <td>46.820809</td>\n",
              "      <td>42.857143</td>\n",
              "      <td>71.223022</td>\n",
              "      <td>53.103448</td>\n",
              "      <td>56.204380</td>\n",
              "      <td>40.000000</td>\n",
              "      <td>65.822785</td>\n",
              "      <td>28.735632</td>\n",
              "      <td>0</td>\n",
              "    </tr>\n",
              "    <tr>\n",
              "      <th>4</th>\n",
              "      <td>15</td>\n",
              "      <td>234</td>\n",
              "      <td>12</td>\n",
              "      <td>9</td>\n",
              "      <td>5</td>\n",
              "      <td>0</td>\n",
              "      <td>0</td>\n",
              "      <td>86.50</td>\n",
              "      <td>85.40</td>\n",
              "      <td>4</td>\n",
              "      <td>...</td>\n",
              "      <td>57.541899</td>\n",
              "      <td>58.381503</td>\n",
              "      <td>46.428571</td>\n",
              "      <td>68.345324</td>\n",
              "      <td>55.862069</td>\n",
              "      <td>70.802920</td>\n",
              "      <td>76.363636</td>\n",
              "      <td>68.354430</td>\n",
              "      <td>79.310345</td>\n",
              "      <td>0</td>\n",
              "    </tr>\n",
              "  </tbody>\n",
              "</table>\n",
              "<p>5 rows × 31 columns</p>\n",
              "</div>\n",
              "      <button class=\"colab-df-convert\" onclick=\"convertToInteractive('df-bb597bad-20b1-40a6-ae94-36c3341f8a42')\"\n",
              "              title=\"Convert this dataframe to an interactive table.\"\n",
              "              style=\"display:none;\">\n",
              "        \n",
              "  <svg xmlns=\"http://www.w3.org/2000/svg\" height=\"24px\"viewBox=\"0 0 24 24\"\n",
              "       width=\"24px\">\n",
              "    <path d=\"M0 0h24v24H0V0z\" fill=\"none\"/>\n",
              "    <path d=\"M18.56 5.44l.94 2.06.94-2.06 2.06-.94-2.06-.94-.94-2.06-.94 2.06-2.06.94zm-11 1L8.5 8.5l.94-2.06 2.06-.94-2.06-.94L8.5 2.5l-.94 2.06-2.06.94zm10 10l.94 2.06.94-2.06 2.06-.94-2.06-.94-.94-2.06-.94 2.06-2.06.94z\"/><path d=\"M17.41 7.96l-1.37-1.37c-.4-.4-.92-.59-1.43-.59-.52 0-1.04.2-1.43.59L10.3 9.45l-7.72 7.72c-.78.78-.78 2.05 0 2.83L4 21.41c.39.39.9.59 1.41.59.51 0 1.02-.2 1.41-.59l7.78-7.78 2.81-2.81c.8-.78.8-2.07 0-2.86zM5.41 20L4 18.59l7.72-7.72 1.47 1.35L5.41 20z\"/>\n",
              "  </svg>\n",
              "      </button>\n",
              "      \n",
              "  <style>\n",
              "    .colab-df-container {\n",
              "      display:flex;\n",
              "      flex-wrap:wrap;\n",
              "      gap: 12px;\n",
              "    }\n",
              "\n",
              "    .colab-df-convert {\n",
              "      background-color: #E8F0FE;\n",
              "      border: none;\n",
              "      border-radius: 50%;\n",
              "      cursor: pointer;\n",
              "      display: none;\n",
              "      fill: #1967D2;\n",
              "      height: 32px;\n",
              "      padding: 0 0 0 0;\n",
              "      width: 32px;\n",
              "    }\n",
              "\n",
              "    .colab-df-convert:hover {\n",
              "      background-color: #E2EBFA;\n",
              "      box-shadow: 0px 1px 2px rgba(60, 64, 67, 0.3), 0px 1px 3px 1px rgba(60, 64, 67, 0.15);\n",
              "      fill: #174EA6;\n",
              "    }\n",
              "\n",
              "    [theme=dark] .colab-df-convert {\n",
              "      background-color: #3B4455;\n",
              "      fill: #D2E3FC;\n",
              "    }\n",
              "\n",
              "    [theme=dark] .colab-df-convert:hover {\n",
              "      background-color: #434B5C;\n",
              "      box-shadow: 0px 1px 3px 1px rgba(0, 0, 0, 0.15);\n",
              "      filter: drop-shadow(0px 1px 2px rgba(0, 0, 0, 0.3));\n",
              "      fill: #FFFFFF;\n",
              "    }\n",
              "  </style>\n",
              "\n",
              "      <script>\n",
              "        const buttonEl =\n",
              "          document.querySelector('#df-bb597bad-20b1-40a6-ae94-36c3341f8a42 button.colab-df-convert');\n",
              "        buttonEl.style.display =\n",
              "          google.colab.kernel.accessAllowed ? 'block' : 'none';\n",
              "\n",
              "        async function convertToInteractive(key) {\n",
              "          const element = document.querySelector('#df-bb597bad-20b1-40a6-ae94-36c3341f8a42');\n",
              "          const dataTable =\n",
              "            await google.colab.kernel.invokeFunction('convertToInteractive',\n",
              "                                                     [key], {});\n",
              "          if (!dataTable) return;\n",
              "\n",
              "          const docLinkHtml = 'Like what you see? Visit the ' +\n",
              "            '<a target=\"_blank\" href=https://colab.research.google.com/notebooks/data_table.ipynb>data table notebook</a>'\n",
              "            + ' to learn more about interactive tables.';\n",
              "          element.innerHTML = '';\n",
              "          dataTable['output_type'] = 'display_data';\n",
              "          await google.colab.output.renderOutput(dataTable, element);\n",
              "          const docLink = document.createElement('div');\n",
              "          docLink.innerHTML = docLinkHtml;\n",
              "          element.appendChild(docLink);\n",
              "        }\n",
              "      </script>\n",
              "    </div>\n",
              "  </div>\n",
              "  "
            ]
          },
          "metadata": {},
          "execution_count": 114
        }
      ]
    },
    {
      "cell_type": "markdown",
      "source": [
        "Problem 1:\n",
        "\n",
        "Which independent variables can be used as inputs for a Neural Network or an SVM and why?"
      ],
      "metadata": {
        "id": "qkjfX4KlGslQ"
      }
    },
    {
      "cell_type": "code",
      "source": [
        "# Identify the dependent variable\n",
        "y = df['Performance']\n",
        "\n",
        "# Identify potential independent variables\n",
        "X = df.select_dtypes(include=np.number).drop(['Performance'], axis=1)\n",
        "\n",
        "# Calculate the correlation between the independent variables and the dependent variable\n",
        "corr = X.corrwith(y)\n",
        "\n",
        "# Remove any independent variables with a correlation coefficient less than a threshold\n",
        "threshold = 0.01\n",
        "X = X.loc[:, abs(corr) >= threshold]\n",
        "\n",
        "# Use correlation-based feature selection to identify a subset of the most important independent variables\n",
        "selector = SelectKBest(f_regression, k=6)\n",
        "selector.fit(X, y)\n",
        "\n",
        "# Get the indices of the selected independent variables\n",
        "selected_indices = selector.get_support(indices=True)\n",
        "\n",
        "# Get the names of the selected independent variables\n",
        "selected_variables = X.columns[selected_indices]\n",
        "\n",
        "# Print the selected independent variables\n",
        "print(selected_variables)"
      ],
      "metadata": {
        "colab": {
          "base_uri": "https://localhost:8080/",
          "height": 0
        },
        "id": "msyNktbWG6f6",
        "outputId": "daea3e35-5a67-4d18-f767-298ac319b49d"
      },
      "execution_count": 115,
      "outputs": [
        {
          "output_type": "stream",
          "name": "stdout",
          "text": [
            "Index(['Quantitative Ability 1', 'Quantitative Ability 2', 'Domain Skills 1',\n",
            "       'Domain Skills 2', 'Domain Test 3', 'Domain Test 4'],\n",
            "      dtype='object')\n"
          ]
        }
      ]
    },
    {
      "cell_type": "markdown",
      "source": [
        "-----------------------------------------------------------------------------\n"
      ],
      "metadata": {
        "id": "omzIGx9cIOQm"
      }
    },
    {
      "cell_type": "markdown",
      "source": [
        "Problem 2:\n",
        "\n",
        "Convert the inputs identified in Q1 into standard form (zero mean and unit variance). Can all data points\n",
        "be used? If not, then devise a strategy to deal with missing information for the rest of the assignment."
      ],
      "metadata": {
        "id": "Ml--Ns2_IEmE"
      }
    },
    {
      "cell_type": "code",
      "source": [
        "# Identify the columns to be scaled\n",
        "columns_to_scale = ['Quantitative Ability 1', 'Quantitative Ability 2', 'Domain Skills 1']\n",
        "\n",
        "# Create a StandardScaler object\n",
        "scaler = preprocessing.StandardScaler()\n",
        "\n",
        "# Scale the selected columns\n",
        "df[columns_to_scale] = scaler.fit_transform(df[columns_to_scale])\n",
        "\n",
        "# Check the results\n",
        "print(df.head())"
      ],
      "metadata": {
        "colab": {
          "base_uri": "https://localhost:8080/",
          "height": 0
        },
        "id": "j1u6-YSeYkPW",
        "outputId": "02aa5a19-ae01-4895-ac79-aa7307104011"
      },
      "execution_count": 116,
      "outputs": [
        {
          "output_type": "stream",
          "name": "stdout",
          "text": [
            "   Candidate ID  Name  Number of characters in Original Name  Month of Birth  \\\n",
            "0             5   209                                     18               7   \n",
            "1             9    43                                     17               4   \n",
            "2            13   335                                     10               0   \n",
            "3            14   321                                     10               5   \n",
            "4            15   234                                     12               9   \n",
            "\n",
            "   Year of Birth  Gender  State (Location)  10th percentage  12th percentage  \\\n",
            "0              6       1                 0            90.30            96.00   \n",
            "1              5       0                 3            85.00            65.33   \n",
            "2              6       1                 0            77.40            81.80   \n",
            "3              6       1                 4            90.16            95.30   \n",
            "4              5       0                 0            86.50            85.40   \n",
            "\n",
            "   10th Completion Year  ...  Quantitative Ability 3  Quantitative Ability 4  \\\n",
            "0                     4  ...               47.486034               49.132948   \n",
            "1                     3  ...               62.011173               53.757225   \n",
            "2                     4  ...               76.536313               54.913295   \n",
            "3                     4  ...               57.541899               46.820809   \n",
            "4                     4  ...               57.541899               58.381503   \n",
            "\n",
            "   Domain Skills 1  Domain Skills 2  Domain Test 3  Domain Test 4  \\\n",
            "0        -1.783005        45.323741      43.448276      54.744526   \n",
            "1        -1.131204        52.517986      61.379310      51.824818   \n",
            "2         0.498297        75.539568      71.034483      70.802920   \n",
            "3        -0.479404        71.223022      53.103448      56.204380   \n",
            "4        -0.262137        68.345324      55.862069      70.802920   \n",
            "\n",
            "   Analytical Skills 1  Analytical Skills 2  Analytical Skills 3  Performance  \n",
            "0            60.000000            58.227848            72.413793            2  \n",
            "1            63.636364            37.974684            83.908046            1  \n",
            "2            70.909091            73.417722            70.114943            0  \n",
            "3            40.000000            65.822785            28.735632            0  \n",
            "4            76.363636            68.354430            79.310345            0  \n",
            "\n",
            "[5 rows x 31 columns]\n"
          ]
        }
      ]
    },
    {
      "cell_type": "markdown",
      "source": [
        "Problem 3:\n",
        "\n",
        "Perform Kolmogorov-Smirnov test  to\n",
        "rank the features according to their discrimination ability for classes BP and LP."
      ],
      "metadata": {
        "id": "jaWKOrU9cquq"
      }
    },
    {
      "cell_type": "code",
      "source": [
        "# Split the dataset into two groups based on the target variable\n",
        "group1 = df[df['Performance'] == 1] #BP\n",
        "group2 = df[df['Performance'] == 2] #LP\n",
        "\n",
        "# Loop over each feature and perform the Kolmogorov-Smirnov test\n",
        "p_values = []\n",
        "for feature in df.columns[:-1]:  # Exclude the target variable\n",
        "    stat, p = stats.ks_2samp(group1[feature], group2[feature])\n",
        "    p_values.append((feature, p))\n",
        "\n",
        "# Sort the p-values in ascending order and print the ranking\n",
        "p_values.sort(key=lambda x: x[1])\n",
        "for i, (feature, p) in enumerate(p_values):\n",
        "    print(f\"{i+1}. {feature}: {p:.4f}\")\n",
        "    p_values=np.array(p_values)"
      ],
      "metadata": {
        "colab": {
          "base_uri": "https://localhost:8080/",
          "height": 0
        },
        "id": "sQov8VJWYqaK",
        "outputId": "854cff66-e546-4228-9bbf-1f01fd46bd60"
      },
      "execution_count": 162,
      "outputs": [
        {
          "output_type": "stream",
          "name": "stdout",
          "text": [
            "1. Quantitative Ability 1: 0.0602\n",
            "2. Quantitative Ability 3: 0.1324\n",
            "3. Candidate ID: 0.1578\n",
            "4. Analytical Skills 1: 0.1858\n",
            "5. Analytical Skills 2: 0.1916\n",
            "6. Domain Test 4: 0.2385\n",
            "7. Analytical Skills 3: 0.2515\n",
            "8. English 2: 0.3442\n",
            "9. Specialization in study: 0.3898\n",
            "10. 10th percentage: 0.4390\n",
            "11. Quantitative Ability 4: 0.4569\n",
            "12. Quantitative Ability 2: 0.4932\n",
            "13. College percentage: 0.4948\n",
            "14. Domain Skills 1: 0.5290\n",
            "15. 12th percentage: 0.5433\n",
            "16. Domain Skills 2: 0.6408\n",
            "17. Domain Test 3: 0.7218\n",
            "18. Month of Birth: 0.7538\n",
            "19. Number of characters in Original Name: 0.8687\n",
            "20. English 4: 0.9140\n",
            "21. English 1: 0.9172\n",
            "22. 12th Completion year: 0.9246\n",
            "23. Name: 0.9478\n",
            "24. Year of Birth: 0.9554\n",
            "25. English 3: 0.9707\n",
            "26. 10th Completion Year: 0.9984\n",
            "27. State (Location): 0.9997\n",
            "28. Gender: 1.0000\n",
            "29. Degree of study: 1.0000\n",
            "30. Year of Completion of college: 1.0000\n"
          ]
        }
      ]
    },
    {
      "cell_type": "code",
      "source": [
        "# Convert p_values list to a numpy array\n",
        "p_values = np.array(p_values)\n",
        "\n",
        "# Rank the features based on their p-values\n",
        "ranked_features = np.argsort(p_values)\n",
        "\n",
        "# Set a pre-defined threshold\n",
        "threshold = 0.01\n",
        "\n",
        "# Select the top-ranked features that have p-values below the threshold\n",
        "selected_features = X.iloc[:, ranked_features[p_values < threshold]]\n",
        "\n",
        "# Print out the names of the top features\n",
        "print(selected_features.columns)\n",
        "\n"
      ],
      "metadata": {
        "id": "vKCPolAFIKjw"
      },
      "execution_count": null,
      "outputs": []
    },
    {
      "cell_type": "markdown",
      "source": [
        "Problem 4:\n",
        "\n",
        "Pick the top two features and plot them in a 2-d space with separate markers for different classes. Are the\n",
        "classes linearly separable using these two features?"
      ],
      "metadata": {
        "id": "26ubWiGBIZF1"
      }
    },
    {
      "cell_type": "code",
      "source": [
        "# Extract the two features and class labels\n",
        "X = df[['Analytical Skills 1', 'Quantitative Ability 3']].values\n",
        "y = df['Performance'].values\n",
        "\n",
        "# Create separate arrays for BP and LP classes\n",
        "X_bp = X[y == 1]\n",
        "X_lp = X[y == 2]\n",
        "\n",
        "# Plot the two classes with different markers\n",
        "plt.scatter(X_bp[:, 0], X_bp[:, 1], marker='o', label='BP')\n",
        "plt.scatter(X_lp[:, 0], X_lp[:, 1], marker='o', label='LP')\n",
        "\n",
        "# Add axis labels and legend\n",
        "plt.xlabel('Analytical 1')\n",
        "plt.ylabel('Quantitative Ability 3')\n",
        "plt.legend()\n",
        "plt.show()"
      ],
      "metadata": {
        "colab": {
          "base_uri": "https://localhost:8080/",
          "height": 449
        },
        "id": "yY3UOWUdIg14",
        "outputId": "892a93b1-c018-4edf-d8c6-38c6cb362d46"
      },
      "execution_count": 122,
      "outputs": [
        {
          "output_type": "display_data",
          "data": {
            "text/plain": [
              "<Figure size 640x480 with 1 Axes>"
            ],
            "image/png": "[encoded data removed]"
          },
          "metadata": {}
        }
      ]
    },
    {
      "cell_type": "markdown",
      "source": [
        "Problem 5:\n",
        "\n",
        "Use Fisher Discriminant Analysis on the classes BP and LP to project the variables identified in Q1 into a\n",
        "1-d space. Plot the posterior p(ωi|x) against x for the two classes. Plot the boundary that will minimize the\n",
        "error for this two-class problem. Comment on the LDA projection in light of the results of Q3."
      ],
      "metadata": {
        "id": "BBRs-3pdJIjX"
      }
    },
    {
      "cell_type": "code",
      "source": [
        "\n",
        "# Create an instance of LinearDiscriminantAnalysis\n",
        "FDA = LinearDiscriminantAnalysis(n_components=1)\n",
        "\n",
        "# Fitting the FDA model on the training data\n",
        "FDA.fit(x_train, y_train)\n",
        "\n",
        "# Projecting the training data onto the FDA components\n",
        "x_projected = FDA.transform(x_train)\n",
        "\n",
        "# Create a scatter plot of the projected data\n",
        "plt.scatter(x_projected, np.zeros_like(x_projected), c=y_train.values, cmap='summer')\n",
        "\n",
        "# Setting the x-axis label\n",
        "plt.xlabel('Projected Axis')\n",
        "\n",
        "# Setting the y-axis limits\n",
        "plt.ylim(-0.1, 0.1)\n",
        "\n",
        "# Remove the y-axis ticks\n",
        "plt.yticks([])\n",
        "\n",
        "# Set the plot title\n",
        "plt.title('Projected Data in 1D')\n",
        "\n",
        "# Display the plot\n",
        "plt.show()"
      ],
      "metadata": {
        "colab": {
          "base_uri": "https://localhost:8080/",
          "height": 472
        },
        "id": "H6WA8-ssJIOf",
        "outputId": "7a470f16-a64f-471d-a479-de2e779804ec"
      },
      "execution_count": 123,
      "outputs": [
        {
          "output_type": "display_data",
          "data": {
            "text/plain": [
              "<Figure size 640x480 with 1 Axes>"
            ],
            "image/png": "[encoded data removed]"
          },
          "metadata": {}
        }
      ]
    },
    {
      "cell_type": "code",
      "source": [
        "# Scatter plot of posterior probability against class\n",
        "\n",
        "y_postprob = \n",
        "\n",
        "# Creating scatter plots for the predicted class probabilities\n",
        "plt.scatter(y_postprob[:, 0], np.full((len(y_postprob)), 0), label=\"BP Class\", s=42, color='teal')\n",
        "plt.scatter(y_postprob[:, 1], np.full((len(y_postprob)), 1), label=\"LP Class\", s=42,color='limegreen')\n",
        "\n",
        "# Setting the y-axis label\n",
        "plt.ylabel('x')\n",
        "\n",
        "# Setting the x-axis label\n",
        "plt.xlabel('p(ωi|x)')\n",
        "\n",
        "# Setting the plot title\n",
        "plt.title('Posterior Probabilities')\n",
        "\n",
        "# Adding a legend\n",
        "plt.legend()\n",
        "\n",
        "# Show the plot\n",
        "plt.show()\n"
      ],
      "metadata": {
        "id": "6q8qiPRCUnD5"
      },
      "execution_count": null,
      "outputs": []
    },
    {
      "cell_type": "code",
      "source": [
        "import matplotlib.pyplot as plt\n",
        "\n",
        "# assuming you have the posterior probabilities and corresponding classes as numpy arrays\n",
        "posterior_probs = [0.2, 0.5, 0.7, 0.8, 0.9]\n",
        "classes = [0, 1, 0, 1, 1]\n",
        "\n",
        "plt.scatter(classes, posterior_probs)\n",
        "plt.xlabel('Class')\n",
        "plt.ylabel('Posterior Probability')\n",
        "plt.show()"
      ],
      "metadata": {
        "colab": {
          "base_uri": "https://localhost:8080/",
          "height": 449
        },
        "id": "-7I9P8QUqmr-",
        "outputId": "6e43a8ff-730d-4fbd-d7cd-76de70afbae3"
      },
      "execution_count": 165,
      "outputs": [
        {
          "output_type": "display_data",
          "data": {
            "text/plain": [
              "<Figure size 640x480 with 1 Axes>"
            ],
            "image/png": "[encoded data removed]"
          },
          "metadata": {}
        }
      ]
    },
    {
      "cell_type": "code",
      "source": [
        "#Plotting the decision boundary\n",
        "\n",
        "\n",
        "# Get the class labels from y_train\n",
        "labels = y_train.values\n",
        "\n",
        "# Plot the projected points with different colors for different classes\n",
        "plt.scatter(x_projected, np.zeros_like(x_projected), c=labels, cmap='summer', s=42)\n",
        "\n",
        "# Find the decision boundary as the midpoint between the classes\n",
        "class_0_mean = np.mean(x_projected[labels == 0])\n",
        "class_1_mean = np.mean(x_projected[labels == 1])\n",
        "decision_boundary = (class_0_mean + class_1_mean) / 2\n",
        "\n",
        "# Plot the decision boundary as a vertical line\n",
        "plt.axvline(x=decision_boundary, color='red', linestyle='--', label='Decision Boundary')\n",
        "\n",
        "# Display the plot\n",
        "plt.show()"
      ],
      "metadata": {
        "colab": {
          "base_uri": "https://localhost:8080/",
          "height": 430
        },
        "id": "jL_72xMUUoDl",
        "outputId": "fbd86baa-393e-4d55-b5e1-08aa53689094"
      },
      "execution_count": 127,
      "outputs": [
        {
          "output_type": "display_data",
          "data": {
            "text/plain": [
              "<Figure size 640x480 with 1 Axes>"
            ],
            "image/png": "[encoded data removed]"
          },
          "metadata": {}
        }
      ]
    },
    {
      "cell_type": "code",
      "source": [
        "# Recognizing the features that are impacting accuracy\n",
        "\n",
        "# Get the weights and intercepts of features in the classifier\n",
        "m = FDA.coef_[0]\n",
        "c = FDA.intercept_[0]\n",
        "\n",
        "# Convert to absolute values\n",
        "abs_m = abs(m)\n",
        "abs_c = abs(c)\n",
        "\n",
        "# Sort and then assign in descending order since we want highest weighted features\n",
        "feature_ranking = np.argsort(abs_m)[::-1]\n",
        "top_features = x_train.iloc[:, feature_ranking[:4]]\n",
        "\n",
        "print(top_features)"
      ],
      "metadata": {
        "colab": {
          "base_uri": "https://localhost:8080/",
          "height": 0
        },
        "id": "DWkRo7KfVsNO",
        "outputId": "f0f9299e-65a0-48e2-8b13-7f6933bf97eb"
      },
      "execution_count": 128,
      "outputs": [
        {
          "output_type": "stream",
          "name": "stdout",
          "text": [
            "     Year of Completion of college  Degree of study  Gender  Year of Birth\n",
            "366                              1                1       0              5\n",
            "178                              1                1       1              5\n",
            "599                              1                1       1              5\n",
            "200                              1                1       0              5\n",
            "424                              1                1       0              5\n",
            "..                             ...              ...     ...            ...\n",
            "71                               1                1       1              5\n",
            "106                              1                1       1              5\n",
            "271                              1                1       0              6\n",
            "438                              1                1       0              4\n",
            "102                              1                1       0              6\n",
            "\n",
            "[496 rows x 4 columns]\n"
          ]
        }
      ]
    },
    {
      "cell_type": "markdown",
      "source": [
        "Problem 6:\n",
        "\n",
        "Build a Neural Network to distinguish between the three classes (ignoring MD which stands for Missing\n",
        "Data). Start with 1 hidden layer and 3 hidden neurons and sigmoid activation function. Train it using a\n",
        "training algorithm of your choice on randomly selected 80% of the points. Validate the results on the 20%\n",
        "of the points not used in training. Plot the error on the training set and validation set against # epochs.\n",
        "Comment on these results. You may use the in-built commands from MATLAB or any other machine\n",
        "learning package for this."
      ],
      "metadata": {
        "id": "ngTAQHvnXSOr"
      }
    },
    {
      "cell_type": "code",
      "source": [
        "X = df.drop(columns = [\"Performance\"])\n",
        "y = df[\"Performance\"]\n",
        "\n",
        "# Split the data into training and validation sets\n",
        "X_train, X_val, y_train, y_val = train_test_split(X, y, test_size=0.2, random_state=42)\n",
        "\n",
        "# Convert the target data to one-hot encoding\n",
        "num_classes = np.max(y) + 1\n",
        "y_train_encoded = keras.utils.to_categorical(y_train, num_classes)\n",
        "y_val_encoded = keras.utils.to_categorical(y_val, num_classes)\n",
        "\n",
        "# Build the neural network model\n",
        "model = keras.Sequential([\n",
        "layers.Dense(3, activation='sigmoid', input_shape=(X_train.shape[1],)),\n",
        "layers.Dense(num_classes, activation='softmax')\n",
        "])\n",
        "\n",
        "#setting the learning rate\n",
        "learning_rate = 0.001\n",
        "\n",
        "#Deciding the Optimizer\n",
        "opt = keras.optimizers.Adam(learning_rate = 0.001)\n",
        "\n",
        "# Compiling the model\n",
        "model.compile(optimizer=opt, loss='categorical_crossentropy', metrics=['accuracy'])\n",
        "\n",
        "# Training the model\n",
        "history = model.fit(X_train, y_train_encoded, epochs=25, batch_size=10, validation_data=(X_val,\n",
        "y_val_encoded))\n",
        "\n",
        "# Predicting the classes for validation data\n",
        "y_pred_encoded = model.predict(X_val)\n",
        "y_pred = np.argmax(y_pred_encoded, axis=1)\n",
        "\n",
        "# Calculating the accuracy score\n",
        "accuracy = accuracy_score(y_val, y_pred)\n",
        "print(f\"Validation Accuracy: {accuracy}\")"
      ],
      "metadata": {
        "colab": {
          "base_uri": "https://localhost:8080/",
          "height": 0
        },
        "id": "Kf7qY8Z8XZrA",
        "outputId": "29648f77-8e28-4b9c-ce04-922a138182e7"
      },
      "execution_count": 132,
      "outputs": [
        {
          "output_type": "stream",
          "name": "stdout",
          "text": [
            "Epoch 1/25\n",
            "50/50 [==============================] - 2s 8ms/step - loss: 1.1856 - accuracy: 0.3125 - val_loss: 1.1204 - val_accuracy: 0.3760\n",
            "Epoch 2/25\n",
            "50/50 [==============================] - 0s 3ms/step - loss: 1.0948 - accuracy: 0.4032 - val_loss: 1.0373 - val_accuracy: 0.4000\n",
            "Epoch 3/25\n",
            "50/50 [==============================] - 0s 3ms/step - loss: 1.0244 - accuracy: 0.4375 - val_loss: 0.9758 - val_accuracy: 0.7200\n",
            "Epoch 4/25\n",
            "50/50 [==============================] - 0s 2ms/step - loss: 0.9903 - accuracy: 0.6452 - val_loss: 0.9506 - val_accuracy: 0.7360\n",
            "Epoch 5/25\n",
            "50/50 [==============================] - 0s 3ms/step - loss: 0.9638 - accuracy: 0.6472 - val_loss: 0.9287 - val_accuracy: 0.7280\n",
            "Epoch 6/25\n",
            "50/50 [==============================] - 0s 3ms/step - loss: 0.9434 - accuracy: 0.6492 - val_loss: 0.9031 - val_accuracy: 0.7280\n",
            "Epoch 7/25\n",
            "50/50 [==============================] - 0s 3ms/step - loss: 0.9265 - accuracy: 0.6452 - val_loss: 0.8854 - val_accuracy: 0.7280\n",
            "Epoch 8/25\n",
            "50/50 [==============================] - 0s 3ms/step - loss: 0.9136 - accuracy: 0.6472 - val_loss: 0.8811 - val_accuracy: 0.6880\n",
            "Epoch 9/25\n",
            "50/50 [==============================] - 0s 3ms/step - loss: 0.9019 - accuracy: 0.6351 - val_loss: 0.8697 - val_accuracy: 0.6880\n",
            "Epoch 10/25\n",
            "50/50 [==============================] - 0s 3ms/step - loss: 0.8923 - accuracy: 0.6452 - val_loss: 0.8521 - val_accuracy: 0.7200\n",
            "Epoch 11/25\n",
            "50/50 [==============================] - 0s 3ms/step - loss: 0.8848 - accuracy: 0.6492 - val_loss: 0.8464 - val_accuracy: 0.7360\n",
            "Epoch 12/25\n",
            "50/50 [==============================] - 0s 3ms/step - loss: 0.8783 - accuracy: 0.6472 - val_loss: 0.8382 - val_accuracy: 0.7280\n",
            "Epoch 13/25\n",
            "50/50 [==============================] - 0s 3ms/step - loss: 0.8716 - accuracy: 0.6552 - val_loss: 0.8314 - val_accuracy: 0.7280\n",
            "Epoch 14/25\n",
            "50/50 [==============================] - 0s 3ms/step - loss: 0.8658 - accuracy: 0.6815 - val_loss: 0.8274 - val_accuracy: 0.7120\n",
            "Epoch 15/25\n",
            "50/50 [==============================] - 0s 3ms/step - loss: 0.8627 - accuracy: 0.6794 - val_loss: 0.8239 - val_accuracy: 0.7120\n",
            "Epoch 16/25\n",
            "50/50 [==============================] - 0s 3ms/step - loss: 0.8667 - accuracy: 0.6794 - val_loss: 0.8219 - val_accuracy: 0.7120\n",
            "Epoch 17/25\n",
            "50/50 [==============================] - 0s 3ms/step - loss: 0.8589 - accuracy: 0.6794 - val_loss: 0.8133 - val_accuracy: 0.7120\n",
            "Epoch 18/25\n",
            "50/50 [==============================] - 0s 3ms/step - loss: 0.8531 - accuracy: 0.6794 - val_loss: 0.8139 - val_accuracy: 0.7120\n",
            "Epoch 19/25\n",
            "50/50 [==============================] - 0s 3ms/step - loss: 0.8503 - accuracy: 0.6794 - val_loss: 0.8083 - val_accuracy: 0.7120\n",
            "Epoch 20/25\n",
            "50/50 [==============================] - 0s 3ms/step - loss: 0.8519 - accuracy: 0.6794 - val_loss: 0.8108 - val_accuracy: 0.7120\n",
            "Epoch 21/25\n",
            "50/50 [==============================] - 0s 3ms/step - loss: 0.8533 - accuracy: 0.6794 - val_loss: 0.8097 - val_accuracy: 0.7120\n",
            "Epoch 22/25\n",
            "50/50 [==============================] - 0s 3ms/step - loss: 0.8469 - accuracy: 0.6794 - val_loss: 0.8079 - val_accuracy: 0.7120\n",
            "Epoch 23/25\n",
            "50/50 [==============================] - 0s 3ms/step - loss: 0.8495 - accuracy: 0.6794 - val_loss: 0.8048 - val_accuracy: 0.7120\n",
            "Epoch 24/25\n",
            "50/50 [==============================] - 0s 3ms/step - loss: 0.8441 - accuracy: 0.6794 - val_loss: 0.8010 - val_accuracy: 0.7120\n",
            "Epoch 25/25\n",
            "50/50 [==============================] - 0s 2ms/step - loss: 0.8460 - accuracy: 0.6794 - val_loss: 0.8041 - val_accuracy: 0.7120\n",
            "4/4 [==============================] - 0s 2ms/step\n",
            "Validation Accuracy: 0.712\n"
          ]
        }
      ]
    },
    {
      "cell_type": "code",
      "source": [
        "# Check the performance of the model on the test set\n",
        "test_loss, test_acc = model.evaluate(X_val, y_val_encoded)\n",
        "\n",
        "# Plotting the training and validation loss over time\n",
        "plt.plot(history.history['loss'], label='Training Loss')\n",
        "plt.plot(history.history['val_loss'], label='Validation Loss')\n",
        "\n",
        "plt.xlabel('Epoch')\n",
        "plt.ylabel('Loss')\n",
        "\n",
        "plt.legend()\n",
        "plt.show()"
      ],
      "metadata": {
        "colab": {
          "base_uri": "https://localhost:8080/",
          "height": 468
        },
        "id": "D5IfR4jOYXc9",
        "outputId": "20432bbd-9587-49f0-f234-dd83f2bd775c"
      },
      "execution_count": 133,
      "outputs": [
        {
          "output_type": "stream",
          "name": "stdout",
          "text": [
            "4/4 [==============================] - 0s 4ms/step - loss: 0.8041 - accuracy: 0.7120\n"
          ]
        },
        {
          "output_type": "display_data",
          "data": {
            "text/plain": [
              "<Figure size 640x480 with 1 Axes>"
            ],
            "image/png": "[encoded data removed]"
          },
          "metadata": {}
        }
      ]
    },
    {
      "cell_type": "markdown",
      "source": [
        "Problem 7:\n",
        "\n",
        "Repeat using different number of hidden nodes and plot minimum error on validation set vs. # hidden\n",
        "nodes. Comment on these results."
      ],
      "metadata": {
        "id": "vg53OqI0Yi5-"
      }
    },
    {
      "cell_type": "code",
      "source": [
        "#Building the mentioned neural network model\n",
        "\n",
        "X = df.drop('Performance', axis=1)\n",
        "y = df['Performance']\n",
        "\n",
        "# split data into train and validation sets\n",
        "X_train, X_val, y_train, y_val = train_test_split(X, y, test_size=0.2, random_state=42)\n",
        "\n",
        "#convert into one-hot\n",
        "num_classes = np.max(y_resampled) + 1\n",
        "y_train_encoded = keras.utils.to_categorical(y_train, num_classes)\n",
        "y_val_encoded = keras.utils.to_categorical(y_val, num_classes)\n",
        "\n",
        "# define a function to create and train the neural network\n",
        "def train_model(num_hidden_nodes):\n",
        "  model = keras.Sequential([layers.Dense(num_hidden_nodes, activation='sigmoid', input_shape=(X_train.shape[1],)),layers.Dense(num_classes, activation='softmax')])\n",
        "  model.compile(optimizer='adam', loss='categorical_crossentropy', metrics=['accuracy'])\n",
        "  #history = model.fit(X_train, y_train, validation_data=(X_val, y_val), epochs=10, verbose=0)\n",
        "  history = model.fit(X_train, y_train_encoded, epochs=10, batch_size=10, validation_data=(X_val, y_val_encoded))\n",
        "  return history.history['val_loss'], history.history['val_accuracy']\n",
        "\n",
        "# define a list of different number of hidden nodes to try\n",
        "num_hidden_nodes_list = my_list = list(range(1, 101, 10))"
      ],
      "metadata": {
        "id": "6_kQRk-RYphY"
      },
      "execution_count": 158,
      "outputs": []
    },
    {
      "cell_type": "code",
      "source": [
        "#Training and plotting the model results\n",
        "\n",
        "\n",
        "# train and evaluate the model with different number of hidden nodes\n",
        "val_loss_list = []\n",
        "val_acc_list = []\n",
        "\n",
        "for num_hidden_nodes in num_hidden_nodes_list:\n",
        "  val_loss, val_acc = train_model(num_hidden_nodes)\n",
        "  val_loss_list.append(min(val_loss))\n",
        "  val_acc_list.append(max(val_acc))\n",
        "\n",
        "# plot the minimum validation loss vs. the number of hidden nodes\n",
        "plt.plot(num_hidden_nodes_list, val_loss_list, 'o-', color='teal')\n",
        "\n",
        "plt.xlabel('# hidden nodes')\n",
        "plt.ylabel('Minimum validation loss')\n",
        "\n",
        "plt.title('Effect of number of hidden nodes on validation loss')\n",
        "plt.show()"
      ],
      "metadata": {
        "colab": {
          "base_uri": "https://localhost:8080/",
          "height": 3944
        },
        "id": "SAv_NCpFZP_d",
        "outputId": "d79037e6-31c7-42d8-8384-57d2c8b93c22"
      },
      "execution_count": 159,
      "outputs": [
        {
          "output_type": "stream",
          "name": "stdout",
          "text": [
            "Epoch 1/10\n",
            "50/50 [==============================] - 2s 22ms/step - loss: 1.1602 - accuracy: 0.6250 - val_loss: 1.1063 - val_accuracy: 0.6720\n",
            "Epoch 2/10\n",
            "50/50 [==============================] - 1s 14ms/step - loss: 1.0890 - accuracy: 0.6452 - val_loss: 1.0564 - val_accuracy: 0.6960\n",
            "Epoch 3/10\n",
            "50/50 [==============================] - 0s 3ms/step - loss: 1.0386 - accuracy: 0.6714 - val_loss: 1.0122 - val_accuracy: 0.7120\n",
            "Epoch 4/10\n",
            "50/50 [==============================] - 0s 7ms/step - loss: 1.0130 - accuracy: 0.6754 - val_loss: 0.9882 - val_accuracy: 0.7120\n",
            "Epoch 5/10\n",
            "50/50 [==============================] - 0s 10ms/step - loss: 0.9915 - accuracy: 0.6774 - val_loss: 0.9663 - val_accuracy: 0.7120\n",
            "Epoch 6/10\n",
            "50/50 [==============================] - 0s 10ms/step - loss: 0.9730 - accuracy: 0.6774 - val_loss: 0.9472 - val_accuracy: 0.7120\n",
            "Epoch 7/10\n",
            "50/50 [==============================] - 0s 6ms/step - loss: 0.9567 - accuracy: 0.6774 - val_loss: 0.9284 - val_accuracy: 0.7120\n",
            "Epoch 8/10\n",
            "50/50 [==============================] - 0s 3ms/step - loss: 0.9421 - accuracy: 0.6774 - val_loss: 0.9126 - val_accuracy: 0.7120\n",
            "Epoch 9/10\n",
            "50/50 [==============================] - 0s 3ms/step - loss: 0.9294 - accuracy: 0.6774 - val_loss: 0.8983 - val_accuracy: 0.7120\n",
            "Epoch 10/10\n",
            "50/50 [==============================] - 0s 2ms/step - loss: 0.9180 - accuracy: 0.6774 - val_loss: 0.8861 - val_accuracy: 0.7120\n",
            "Epoch 1/10\n",
            "50/50 [==============================] - 1s 10ms/step - loss: 1.4524 - accuracy: 0.1976 - val_loss: 1.2400 - val_accuracy: 0.1920\n",
            "Epoch 2/10\n",
            "50/50 [==============================] - 0s 4ms/step - loss: 1.1467 - accuracy: 0.2198 - val_loss: 0.9935 - val_accuracy: 0.5360\n",
            "Epoch 3/10\n",
            "50/50 [==============================] - 0s 5ms/step - loss: 0.9796 - accuracy: 0.6210 - val_loss: 0.8806 - val_accuracy: 0.7120\n",
            "Epoch 4/10\n",
            "50/50 [==============================] - 0s 4ms/step - loss: 0.9077 - accuracy: 0.6794 - val_loss: 0.8434 - val_accuracy: 0.7120\n",
            "Epoch 5/10\n",
            "50/50 [==============================] - 0s 4ms/step - loss: 0.8791 - accuracy: 0.6794 - val_loss: 0.8193 - val_accuracy: 0.7120\n",
            "Epoch 6/10\n",
            "50/50 [==============================] - 0s 5ms/step - loss: 0.8724 - accuracy: 0.6794 - val_loss: 0.8096 - val_accuracy: 0.7120\n",
            "Epoch 7/10\n",
            "50/50 [==============================] - 0s 4ms/step - loss: 0.8669 - accuracy: 0.6794 - val_loss: 0.8045 - val_accuracy: 0.7120\n",
            "Epoch 8/10\n",
            "50/50 [==============================] - 0s 5ms/step - loss: 0.8629 - accuracy: 0.6794 - val_loss: 0.7996 - val_accuracy: 0.7120\n",
            "Epoch 9/10\n",
            "50/50 [==============================] - 0s 5ms/step - loss: 0.8579 - accuracy: 0.6794 - val_loss: 0.7949 - val_accuracy: 0.7120\n",
            "Epoch 10/10\n",
            "50/50 [==============================] - 0s 5ms/step - loss: 0.8566 - accuracy: 0.6794 - val_loss: 0.8008 - val_accuracy: 0.7120\n",
            "Epoch 1/10\n",
            "50/50 [==============================] - 1s 6ms/step - loss: 1.0304 - accuracy: 0.4919 - val_loss: 0.8929 - val_accuracy: 0.6880\n",
            "Epoch 2/10\n",
            "50/50 [==============================] - 0s 2ms/step - loss: 0.8692 - accuracy: 0.6694 - val_loss: 0.8335 - val_accuracy: 0.7120\n",
            "Epoch 3/10\n",
            "50/50 [==============================] - 0s 2ms/step - loss: 0.8458 - accuracy: 0.6794 - val_loss: 0.8354 - val_accuracy: 0.7120\n",
            "Epoch 4/10\n",
            "50/50 [==============================] - 0s 3ms/step - loss: 0.8407 - accuracy: 0.6794 - val_loss: 0.8166 - val_accuracy: 0.7120\n",
            "Epoch 5/10\n",
            "50/50 [==============================] - 0s 4ms/step - loss: 0.8321 - accuracy: 0.6794 - val_loss: 0.8161 - val_accuracy: 0.7120\n",
            "Epoch 6/10\n",
            "50/50 [==============================] - 0s 3ms/step - loss: 0.8330 - accuracy: 0.6794 - val_loss: 0.8063 - val_accuracy: 0.7120\n",
            "Epoch 7/10\n",
            "50/50 [==============================] - 0s 3ms/step - loss: 0.8353 - accuracy: 0.6774 - val_loss: 0.7977 - val_accuracy: 0.7120\n",
            "Epoch 8/10\n",
            "50/50 [==============================] - 0s 3ms/step - loss: 0.8332 - accuracy: 0.6794 - val_loss: 0.8054 - val_accuracy: 0.7120\n",
            "Epoch 9/10\n",
            "50/50 [==============================] - 0s 3ms/step - loss: 0.8291 - accuracy: 0.6794 - val_loss: 0.8094 - val_accuracy: 0.7120\n",
            "Epoch 10/10\n",
            "50/50 [==============================] - 0s 3ms/step - loss: 0.8302 - accuracy: 0.6794 - val_loss: 0.8164 - val_accuracy: 0.7120\n",
            "Epoch 1/10\n",
            "50/50 [==============================] - 1s 6ms/step - loss: 1.1922 - accuracy: 0.3810 - val_loss: 0.8770 - val_accuracy: 0.6720\n",
            "Epoch 2/10\n",
            "50/50 [==============================] - 0s 3ms/step - loss: 0.8680 - accuracy: 0.6613 - val_loss: 0.7971 - val_accuracy: 0.7120\n",
            "Epoch 3/10\n",
            "50/50 [==============================] - 0s 3ms/step - loss: 0.8460 - accuracy: 0.6774 - val_loss: 0.7820 - val_accuracy: 0.7120\n",
            "Epoch 4/10\n",
            "50/50 [==============================] - 0s 3ms/step - loss: 0.8409 - accuracy: 0.6794 - val_loss: 0.7907 - val_accuracy: 0.7120\n",
            "Epoch 5/10\n",
            "50/50 [==============================] - 0s 3ms/step - loss: 0.8331 - accuracy: 0.6794 - val_loss: 0.7907 - val_accuracy: 0.7120\n",
            "Epoch 6/10\n",
            "50/50 [==============================] - 0s 2ms/step - loss: 0.8291 - accuracy: 0.6794 - val_loss: 0.7903 - val_accuracy: 0.7120\n",
            "Epoch 7/10\n",
            "50/50 [==============================] - 0s 3ms/step - loss: 0.8323 - accuracy: 0.6794 - val_loss: 0.7885 - val_accuracy: 0.7120\n",
            "Epoch 8/10\n",
            "50/50 [==============================] - 0s 2ms/step - loss: 0.8280 - accuracy: 0.6794 - val_loss: 0.7857 - val_accuracy: 0.7120\n",
            "Epoch 9/10\n",
            "50/50 [==============================] - 0s 3ms/step - loss: 0.8302 - accuracy: 0.6794 - val_loss: 0.7785 - val_accuracy: 0.7120\n",
            "Epoch 10/10\n",
            "50/50 [==============================] - 0s 3ms/step - loss: 0.8237 - accuracy: 0.6794 - val_loss: 0.7824 - val_accuracy: 0.7120\n",
            "Epoch 1/10\n",
            "50/50 [==============================] - 1s 7ms/step - loss: 1.0646 - accuracy: 0.4617 - val_loss: 0.8352 - val_accuracy: 0.7120\n",
            "Epoch 2/10\n",
            "50/50 [==============================] - 0s 3ms/step - loss: 0.8359 - accuracy: 0.6794 - val_loss: 0.7989 - val_accuracy: 0.7120\n",
            "Epoch 3/10\n",
            "50/50 [==============================] - 0s 3ms/step - loss: 0.8266 - accuracy: 0.6794 - val_loss: 0.7917 - val_accuracy: 0.7120\n",
            "Epoch 4/10\n",
            "50/50 [==============================] - 0s 3ms/step - loss: 0.8279 - accuracy: 0.6794 - val_loss: 0.7954 - val_accuracy: 0.7120\n",
            "Epoch 5/10\n",
            "50/50 [==============================] - 0s 3ms/step - loss: 0.8242 - accuracy: 0.6794 - val_loss: 0.7988 - val_accuracy: 0.7120\n",
            "Epoch 6/10\n",
            "50/50 [==============================] - 0s 3ms/step - loss: 0.8210 - accuracy: 0.6794 - val_loss: 0.7911 - val_accuracy: 0.7120\n",
            "Epoch 7/10\n",
            "50/50 [==============================] - 0s 3ms/step - loss: 0.8177 - accuracy: 0.6794 - val_loss: 0.7850 - val_accuracy: 0.7120\n",
            "Epoch 8/10\n",
            "50/50 [==============================] - 0s 3ms/step - loss: 0.8172 - accuracy: 0.6794 - val_loss: 0.7910 - val_accuracy: 0.7120\n",
            "Epoch 9/10\n",
            "50/50 [==============================] - 0s 3ms/step - loss: 0.8179 - accuracy: 0.6794 - val_loss: 0.7808 - val_accuracy: 0.7120\n",
            "Epoch 10/10\n",
            "50/50 [==============================] - 0s 3ms/step - loss: 0.8163 - accuracy: 0.6794 - val_loss: 0.7896 - val_accuracy: 0.7120\n",
            "Epoch 1/10\n",
            "50/50 [==============================] - 1s 6ms/step - loss: 1.6720 - accuracy: 0.1411 - val_loss: 1.1521 - val_accuracy: 0.2320\n",
            "Epoch 2/10\n",
            "50/50 [==============================] - 0s 2ms/step - loss: 0.9715 - accuracy: 0.5625 - val_loss: 0.8318 - val_accuracy: 0.7120\n",
            "Epoch 3/10\n",
            "50/50 [==============================] - 0s 3ms/step - loss: 0.8576 - accuracy: 0.6794 - val_loss: 0.7973 - val_accuracy: 0.7120\n",
            "Epoch 4/10\n",
            "50/50 [==============================] - 0s 3ms/step - loss: 0.8391 - accuracy: 0.6794 - val_loss: 0.7912 - val_accuracy: 0.7120\n",
            "Epoch 5/10\n",
            "50/50 [==============================] - 0s 3ms/step - loss: 0.8350 - accuracy: 0.6794 - val_loss: 0.7916 - val_accuracy: 0.7120\n",
            "Epoch 6/10\n",
            "50/50 [==============================] - 0s 3ms/step - loss: 0.8299 - accuracy: 0.6794 - val_loss: 0.7871 - val_accuracy: 0.7120\n",
            "Epoch 7/10\n",
            "50/50 [==============================] - 0s 3ms/step - loss: 0.8357 - accuracy: 0.6794 - val_loss: 0.7790 - val_accuracy: 0.7120\n",
            "Epoch 8/10\n",
            "50/50 [==============================] - 0s 3ms/step - loss: 0.8285 - accuracy: 0.6794 - val_loss: 0.7881 - val_accuracy: 0.7120\n",
            "Epoch 9/10\n",
            "50/50 [==============================] - 0s 3ms/step - loss: 0.8258 - accuracy: 0.6794 - val_loss: 0.7804 - val_accuracy: 0.7120\n",
            "Epoch 10/10\n",
            "50/50 [==============================] - 0s 3ms/step - loss: 0.8255 - accuracy: 0.6794 - val_loss: 0.7822 - val_accuracy: 0.7120\n",
            "Epoch 1/10\n",
            "50/50 [==============================] - 1s 10ms/step - loss: 0.8721 - accuracy: 0.6734 - val_loss: 0.7833 - val_accuracy: 0.7120\n",
            "Epoch 2/10\n",
            "50/50 [==============================] - 0s 4ms/step - loss: 0.8415 - accuracy: 0.6794 - val_loss: 0.7861 - val_accuracy: 0.7120\n",
            "Epoch 3/10\n",
            "50/50 [==============================] - 0s 5ms/step - loss: 0.8333 - accuracy: 0.6794 - val_loss: 0.7951 - val_accuracy: 0.7120\n",
            "Epoch 4/10\n",
            "50/50 [==============================] - 0s 5ms/step - loss: 0.8312 - accuracy: 0.6794 - val_loss: 0.7996 - val_accuracy: 0.7120\n",
            "Epoch 5/10\n",
            "50/50 [==============================] - 0s 5ms/step - loss: 0.8276 - accuracy: 0.6794 - val_loss: 0.7734 - val_accuracy: 0.7120\n",
            "Epoch 6/10\n",
            "50/50 [==============================] - 0s 3ms/step - loss: 0.8268 - accuracy: 0.6794 - val_loss: 0.7929 - val_accuracy: 0.7120\n",
            "Epoch 7/10\n",
            "50/50 [==============================] - 0s 4ms/step - loss: 0.8289 - accuracy: 0.6794 - val_loss: 0.7798 - val_accuracy: 0.7120\n",
            "Epoch 8/10\n",
            "50/50 [==============================] - 0s 5ms/step - loss: 0.8210 - accuracy: 0.6794 - val_loss: 0.7988 - val_accuracy: 0.7120\n",
            "Epoch 9/10\n",
            "50/50 [==============================] - 0s 4ms/step - loss: 0.8147 - accuracy: 0.6815 - val_loss: 0.8065 - val_accuracy: 0.7120\n",
            "Epoch 10/10\n",
            "50/50 [==============================] - 0s 4ms/step - loss: 0.8070 - accuracy: 0.6794 - val_loss: 0.7925 - val_accuracy: 0.7120\n",
            "Epoch 1/10\n",
            "50/50 [==============================] - 1s 7ms/step - loss: 0.9273 - accuracy: 0.6532 - val_loss: 0.8017 - val_accuracy: 0.7120\n",
            "Epoch 2/10\n",
            "50/50 [==============================] - 0s 4ms/step - loss: 0.8512 - accuracy: 0.6794 - val_loss: 0.7967 - val_accuracy: 0.7120\n",
            "Epoch 3/10\n",
            "50/50 [==============================] - 0s 3ms/step - loss: 0.8344 - accuracy: 0.6794 - val_loss: 0.7926 - val_accuracy: 0.7120\n",
            "Epoch 4/10\n",
            "50/50 [==============================] - 0s 3ms/step - loss: 0.8299 - accuracy: 0.6794 - val_loss: 0.7825 - val_accuracy: 0.7120\n",
            "Epoch 5/10\n",
            "50/50 [==============================] - 0s 3ms/step - loss: 0.8266 - accuracy: 0.6794 - val_loss: 0.8010 - val_accuracy: 0.7200\n",
            "Epoch 6/10\n",
            "50/50 [==============================] - 0s 3ms/step - loss: 0.8219 - accuracy: 0.6815 - val_loss: 0.8016 - val_accuracy: 0.7120\n",
            "Epoch 7/10\n",
            "50/50 [==============================] - 0s 3ms/step - loss: 0.8158 - accuracy: 0.6794 - val_loss: 0.7848 - val_accuracy: 0.7200\n",
            "Epoch 8/10\n",
            "50/50 [==============================] - 0s 3ms/step - loss: 0.8095 - accuracy: 0.6774 - val_loss: 0.7950 - val_accuracy: 0.7120\n",
            "Epoch 9/10\n",
            "50/50 [==============================] - 0s 3ms/step - loss: 0.8118 - accuracy: 0.6835 - val_loss: 0.7912 - val_accuracy: 0.7200\n",
            "Epoch 10/10\n",
            "50/50 [==============================] - 0s 3ms/step - loss: 0.8107 - accuracy: 0.6794 - val_loss: 0.7653 - val_accuracy: 0.7120\n",
            "Epoch 1/10\n",
            "50/50 [==============================] - 1s 7ms/step - loss: 0.9092 - accuracy: 0.6310 - val_loss: 0.8146 - val_accuracy: 0.7120\n",
            "Epoch 2/10\n",
            "50/50 [==============================] - 0s 3ms/step - loss: 0.8577 - accuracy: 0.6754 - val_loss: 0.7980 - val_accuracy: 0.7120\n",
            "Epoch 3/10\n",
            "50/50 [==============================] - 0s 3ms/step - loss: 0.8459 - accuracy: 0.6794 - val_loss: 0.8029 - val_accuracy: 0.7120\n",
            "Epoch 4/10\n",
            "50/50 [==============================] - 0s 3ms/step - loss: 0.8359 - accuracy: 0.6794 - val_loss: 0.7972 - val_accuracy: 0.7120\n",
            "Epoch 5/10\n",
            "50/50 [==============================] - 0s 3ms/step - loss: 0.8294 - accuracy: 0.6794 - val_loss: 0.8104 - val_accuracy: 0.7120\n",
            "Epoch 6/10\n",
            "50/50 [==============================] - 0s 3ms/step - loss: 0.8216 - accuracy: 0.6794 - val_loss: 0.8039 - val_accuracy: 0.7120\n",
            "Epoch 7/10\n",
            "50/50 [==============================] - 0s 3ms/step - loss: 0.8214 - accuracy: 0.6794 - val_loss: 0.8024 - val_accuracy: 0.7120\n",
            "Epoch 8/10\n",
            "50/50 [==============================] - 0s 3ms/step - loss: 0.8255 - accuracy: 0.6794 - val_loss: 0.7879 - val_accuracy: 0.7120\n",
            "Epoch 9/10\n",
            "50/50 [==============================] - 0s 4ms/step - loss: 0.8147 - accuracy: 0.6794 - val_loss: 0.7783 - val_accuracy: 0.7120\n",
            "Epoch 10/10\n",
            "50/50 [==============================] - 0s 3ms/step - loss: 0.8212 - accuracy: 0.6794 - val_loss: 0.7922 - val_accuracy: 0.7120\n",
            "Epoch 1/10\n",
            "50/50 [==============================] - 1s 7ms/step - loss: 0.8924 - accuracy: 0.6794 - val_loss: 0.8138 - val_accuracy: 0.7120\n",
            "Epoch 2/10\n",
            "50/50 [==============================] - 0s 3ms/step - loss: 0.8440 - accuracy: 0.6794 - val_loss: 0.8315 - val_accuracy: 0.7120\n",
            "Epoch 3/10\n",
            "50/50 [==============================] - 0s 3ms/step - loss: 0.8348 - accuracy: 0.6794 - val_loss: 0.8102 - val_accuracy: 0.7120\n",
            "Epoch 4/10\n",
            "50/50 [==============================] - 0s 3ms/step - loss: 0.8257 - accuracy: 0.6794 - val_loss: 0.7989 - val_accuracy: 0.7120\n",
            "Epoch 5/10\n",
            "50/50 [==============================] - 0s 3ms/step - loss: 0.8234 - accuracy: 0.6794 - val_loss: 0.7990 - val_accuracy: 0.7120\n",
            "Epoch 6/10\n",
            "50/50 [==============================] - 0s 3ms/step - loss: 0.8169 - accuracy: 0.6794 - val_loss: 0.7992 - val_accuracy: 0.7120\n",
            "Epoch 7/10\n",
            "50/50 [==============================] - 0s 3ms/step - loss: 0.8266 - accuracy: 0.6794 - val_loss: 0.7905 - val_accuracy: 0.7120\n",
            "Epoch 8/10\n",
            "50/50 [==============================] - 0s 3ms/step - loss: 0.8205 - accuracy: 0.6794 - val_loss: 0.7959 - val_accuracy: 0.7120\n",
            "Epoch 9/10\n",
            "50/50 [==============================] - 0s 3ms/step - loss: 0.8212 - accuracy: 0.6794 - val_loss: 0.7977 - val_accuracy: 0.7120\n",
            "Epoch 10/10\n",
            "50/50 [==============================] - 0s 3ms/step - loss: 0.8126 - accuracy: 0.6794 - val_loss: 0.7906 - val_accuracy: 0.7120\n"
          ]
        },
        {
          "output_type": "display_data",
          "data": {
            "text/plain": [
              "<Figure size 640x480 with 1 Axes>"
            ],
            "image/png": "[encoded data removed]"
          },
          "metadata": {}
        }
      ]
    },
    {
      "cell_type": "markdown",
      "source": [
        "Problem 8:\n",
        "\n",
        "For the optimal number of hidden nodes, interpret the input-to-hidden node weight matrix and its relation\n",
        "to results of Q3 and Q5."
      ],
      "metadata": {
        "id": "9OxSeBatZtLm"
      }
    },
    {
      "cell_type": "code",
      "source": [
        "#A function to iterate through different number of hidden nodes. \n",
        "X = df.drop(columns = [\"Performance\"])\n",
        "y = df[\"Performance\"]\n",
        "\n",
        "# Instantiate the RandomUnderSampler\n",
        "rus = RandomUnderSampler(random_state=42)\n",
        "\n",
        "# Apply undersampling to X and y\n",
        "X_resampled, y_resampled = rus.fit_resample(X, y)\n",
        "\n",
        "# Split the data into training and validation sets\n",
        "X_train, X_val, y_train, y_val = train_test_split(X_resampled, y_resampled, test_size=0.2,\n",
        "random_state=42)\n",
        "\n",
        "# Convert the target data to one-hot encoding\n",
        "num_classes = np.max(y_resampled) + 1\n",
        "y_train_encoded = keras.utils.to_categorical(y_train, num_classes)\n",
        "y_val_encoded = keras.utils.to_categorical(y_val, num_classes)\n",
        "\n",
        "# Build the neural network model\n",
        "model = keras.Sequential([\n",
        "layers.Dense(101, activation='sigmoid', input_shape=(X_train.shape[1],)),\n",
        "layers.Dense(num_classes, activation='softmax')\n",
        "])\n",
        "\n",
        "#set the learning rate\n",
        "learning_rate = 0.001\n",
        "\n",
        "#Choose the Optimizer\n",
        "opt = keras.optimizers.Adam(learning_rate = learning_rate)\n",
        "\n",
        "# Compile the model\n",
        "model.compile(optimizer=opt, loss='categorical_crossentropy', metrics=['accuracy'])\n",
        "\n",
        "# Train the model\n",
        "history = model.fit(X_train, y_train_encoded, epochs=25, batch_size=10, validation_data=(X_val,y_val_encoded))\n",
        "\n",
        "# Predict the classes for validation data\n",
        "y_pred_encoded = model.predict(X_val)\n",
        "y_pred = np.argmax(y_pred_encoded, axis=1)\n",
        "test_loss, test_acc = model.evaluate(X_val, y_val_encoded)\n",
        "\n",
        "print('Test accuracy:', test_acc)\n",
        "# Plot the training and validation loss over time\n",
        "\n",
        "plt.plot(history.history['loss'], label='Training Loss')\n",
        "plt.plot(history.history['val_loss'], label='Validation Loss')\n",
        "\n",
        "plt.xlabel('Epoch')\n",
        "plt.ylabel('Loss')\n",
        "\n",
        "plt.legend()\n",
        "plt.show()"
      ],
      "metadata": {
        "colab": {
          "base_uri": "https://localhost:8080/",
          "height": 1371
        },
        "id": "K7aAzu_ZZysX",
        "outputId": "f6066c8c-99d0-4327-c8da-efe5857dcfca"
      },
      "execution_count": 139,
      "outputs": [
        {
          "output_type": "stream",
          "name": "stdout",
          "text": [
            "Epoch 1/25\n",
            "18/18 [==============================] - 1s 18ms/step - loss: 1.2393 - accuracy: 0.3220 - val_loss: 1.0930 - val_accuracy: 0.4222\n",
            "Epoch 2/25\n",
            "18/18 [==============================] - 0s 4ms/step - loss: 1.1017 - accuracy: 0.3616 - val_loss: 1.1396 - val_accuracy: 0.2667\n",
            "Epoch 3/25\n",
            "18/18 [==============================] - 0s 5ms/step - loss: 1.0730 - accuracy: 0.4124 - val_loss: 1.1003 - val_accuracy: 0.4000\n",
            "Epoch 4/25\n",
            "18/18 [==============================] - 0s 5ms/step - loss: 1.0519 - accuracy: 0.4746 - val_loss: 1.1228 - val_accuracy: 0.4444\n",
            "Epoch 5/25\n",
            "18/18 [==============================] - 0s 5ms/step - loss: 1.0407 - accuracy: 0.4972 - val_loss: 1.1069 - val_accuracy: 0.4000\n",
            "Epoch 6/25\n",
            "18/18 [==============================] - 0s 5ms/step - loss: 1.0334 - accuracy: 0.5085 - val_loss: 1.1208 - val_accuracy: 0.4000\n",
            "Epoch 7/25\n",
            "18/18 [==============================] - 0s 5ms/step - loss: 1.0284 - accuracy: 0.5028 - val_loss: 1.1450 - val_accuracy: 0.3778\n",
            "Epoch 8/25\n",
            "18/18 [==============================] - 0s 4ms/step - loss: 1.0357 - accuracy: 0.4915 - val_loss: 1.1240 - val_accuracy: 0.4000\n",
            "Epoch 9/25\n",
            "18/18 [==============================] - 0s 5ms/step - loss: 1.0239 - accuracy: 0.4915 - val_loss: 1.1519 - val_accuracy: 0.3111\n",
            "Epoch 10/25\n",
            "18/18 [==============================] - 0s 5ms/step - loss: 1.0126 - accuracy: 0.4972 - val_loss: 1.1497 - val_accuracy: 0.3556\n",
            "Epoch 11/25\n",
            "18/18 [==============================] - 0s 5ms/step - loss: 1.0148 - accuracy: 0.5254 - val_loss: 1.1234 - val_accuracy: 0.4222\n",
            "Epoch 12/25\n",
            "18/18 [==============================] - 0s 5ms/step - loss: 1.0108 - accuracy: 0.5141 - val_loss: 1.1296 - val_accuracy: 0.3778\n",
            "Epoch 13/25\n",
            "18/18 [==============================] - 0s 4ms/step - loss: 1.0024 - accuracy: 0.5028 - val_loss: 1.1486 - val_accuracy: 0.4000\n",
            "Epoch 14/25\n",
            "18/18 [==============================] - 0s 4ms/step - loss: 0.9933 - accuracy: 0.5367 - val_loss: 1.1332 - val_accuracy: 0.4000\n",
            "Epoch 15/25\n",
            "18/18 [==============================] - 0s 5ms/step - loss: 0.9903 - accuracy: 0.5593 - val_loss: 1.1334 - val_accuracy: 0.4444\n",
            "Epoch 16/25\n",
            "18/18 [==============================] - 0s 5ms/step - loss: 0.9805 - accuracy: 0.5537 - val_loss: 1.1336 - val_accuracy: 0.4000\n",
            "Epoch 17/25\n",
            "18/18 [==============================] - 0s 4ms/step - loss: 0.9806 - accuracy: 0.5593 - val_loss: 1.1497 - val_accuracy: 0.3556\n",
            "Epoch 18/25\n",
            "18/18 [==============================] - 0s 4ms/step - loss: 0.9784 - accuracy: 0.5763 - val_loss: 1.1138 - val_accuracy: 0.4444\n",
            "Epoch 19/25\n",
            "18/18 [==============================] - 0s 4ms/step - loss: 0.9848 - accuracy: 0.5537 - val_loss: 1.1634 - val_accuracy: 0.3333\n",
            "Epoch 20/25\n",
            "18/18 [==============================] - 0s 5ms/step - loss: 0.9774 - accuracy: 0.5763 - val_loss: 1.1299 - val_accuracy: 0.3778\n",
            "Epoch 21/25\n",
            "18/18 [==============================] - 0s 5ms/step - loss: 0.9669 - accuracy: 0.5989 - val_loss: 1.1179 - val_accuracy: 0.4222\n",
            "Epoch 22/25\n",
            "18/18 [==============================] - 0s 5ms/step - loss: 0.9644 - accuracy: 0.6102 - val_loss: 1.1342 - val_accuracy: 0.4222\n",
            "Epoch 23/25\n",
            "18/18 [==============================] - 0s 4ms/step - loss: 0.9622 - accuracy: 0.5876 - val_loss: 1.1315 - val_accuracy: 0.3556\n",
            "Epoch 24/25\n",
            "18/18 [==============================] - 0s 5ms/step - loss: 0.9704 - accuracy: 0.5932 - val_loss: 1.1444 - val_accuracy: 0.3778\n",
            "Epoch 25/25\n",
            "18/18 [==============================] - 0s 5ms/step - loss: 0.9569 - accuracy: 0.5876 - val_loss: 1.1317 - val_accuracy: 0.3778\n",
            "2/2 [==============================] - 0s 5ms/step\n",
            "2/2 [==============================] - 0s 10ms/step - loss: 1.1317 - accuracy: 0.3778\n",
            "Test accuracy: 0.3777777850627899\n"
          ]
        },
        {
          "output_type": "display_data",
          "data": {
            "text/plain": [
              "<Figure size 640x480 with 1 Axes>"
            ],
            "image/png": "[encoded data removed]"
          },
          "metadata": {}
        }
      ]
    },
    {
      "cell_type": "code",
      "source": [
        "#Estimating the model weights and respective features\n",
        "\n",
        "# Retrieve the model weights using the model layer\n",
        "weights = model.layers[0].get_weights()[0]\n",
        "\n",
        "# Sum up all the weights of each feature on every neuron\n",
        "sumweight = abs(weights).sum(axis=1)\n",
        "\n",
        "# Create a 2D array to store feature columns and their corresponding weights\n",
        "feature_column = []\n",
        "cols = [i for i in df.columns]\n",
        "cols.remove('Performance')\n",
        "\n",
        "# Iterate over each feature and its corresponding weight\n",
        "for i in range(len(sumweight)):\n",
        "  feature_column.append([cols[i], sumweight[i]])\n",
        "\n",
        "# Sort the feature columns based on their weights in descending order\n",
        "feature_column.sort(key=lambda x: x[1], reverse=True)\n",
        "\n",
        "# Print the feature columns and their corresponding weights\n",
        "for i in feature_column:\n",
        "  print(f\"{i[0]} - {i[1]}\")\n"
      ],
      "metadata": {
        "colab": {
          "base_uri": "https://localhost:8080/",
          "height": 0
        },
        "id": "0VGI5P-DaZpL",
        "outputId": "7dd4c920-68b9-4ffa-ed3e-d6fa6aaf6d39"
      },
      "execution_count": 142,
      "outputs": [
        {
          "output_type": "stream",
          "name": "stdout",
          "text": [
            "Candidate ID - 12.271949768066406\n",
            "Domain Skills 1 - 12.181154251098633\n",
            "12th Completion year - 11.895264625549316\n",
            "10th Completion Year - 11.872221946716309\n",
            "Quantitative Ability 2 - 11.835701942443848\n",
            "Domain Skills 2 - 11.780179977416992\n",
            "State (Location) - 11.680562019348145\n",
            "English 1 - 11.571528434753418\n",
            "Gender - 11.417744636535645\n",
            "12th percentage - 11.381863594055176\n",
            "English 3 - 11.309925079345703\n",
            "Specialization in study - 11.299087524414062\n",
            "Analytical Skills 2 - 11.261906623840332\n",
            "Domain Test 4 - 11.139568328857422\n",
            "Analytical Skills 1 - 11.078080177307129\n",
            "Number of characters in Original Name - 10.998658180236816\n",
            "10th percentage - 10.993264198303223\n",
            "Name - 10.952081680297852\n",
            "College percentage - 10.940486907958984\n",
            "English 4 - 10.823869705200195\n",
            "Quantitative Ability 3 - 10.80798053741455\n",
            "Quantitative Ability 4 - 10.770121574401855\n",
            "Analytical Skills 3 - 10.68714714050293\n",
            "Year of Completion of college - 10.653292655944824\n",
            "Quantitative Ability 1 - 10.618630409240723\n",
            "Domain Test 3 - 10.61563777923584\n",
            "Month of Birth - 10.464073181152344\n",
            "Degree of study - 10.299717903137207\n",
            "English 2 - 10.169233322143555\n",
            "Year of Birth - 9.67655086517334\n"
          ]
        }
      ]
    },
    {
      "cell_type": "markdown",
      "source": [
        "Problem 9:\n",
        "\n",
        "Repeat step 6 using SVM. Select a Gaussian Kernel, and use a grid search\n",
        "(http://www.csie.ntu.edu.tw/~cjlin/papers/guide/guide.pdf). Comment on the results, and compare them to\n",
        "Q3, Q5 and Q8."
      ],
      "metadata": {
        "id": "q2cJBeaNauCq"
      }
    },
    {
      "cell_type": "code",
      "source": [
        "data = df.iloc[:, :-1]\n",
        "label = df.iloc[:, -1]\n",
        "\n",
        "X_train, X_val, y_train, y_val = train_test_split(data, label, test_size=0.2, random_state=42)\n",
        "\n",
        "# Define the SVM model\n",
        "svm_model = SVC(kernel='rbf', decision_function_shape='ovr') #Radial Basis Function is also called as Gaussian Kernel\n",
        "\n",
        "# Set up the parameter grid for grid search\n",
        "param_grid = {'C': [0.1, 1, 10, 100], 'gamma': [0.1, 1, 10, 100]}\n",
        "\n",
        "# Perform grid search to find the best hyperparameters\n",
        "grid_search = GridSearchCV(svm_model, param_grid, cv=5)\n",
        "grid_search.fit(X_train, y_train)\n",
        "\n",
        "# Print the best hyperparameters found\n",
        "print(\"Best hyperparameters: \", grid_search.best_params_)\n",
        "\n",
        "# Evaluate the model with the best hyperparameters on the test set\n",
        "best_svm_model = grid_search.best_estimator_\n",
        "y_pred = best_svm_model.predict(X_val)\n",
        "target_names = ['BP', 'MP', 'LP']\n",
        "\n",
        "print(classification_report(y_val, y_pred, target_names=target_names, zero_division=1))"
      ],
      "metadata": {
        "colab": {
          "base_uri": "https://localhost:8080/",
          "height": 0
        },
        "id": "XAIrYSM6a0Iv",
        "outputId": "2fb09b7d-b368-409e-9fe2-fbf2a6f278fb"
      },
      "execution_count": 151,
      "outputs": [
        {
          "output_type": "stream",
          "name": "stdout",
          "text": [
            "Best hyperparameters:  {'C': 0.1, 'gamma': 0.1}\n",
            "              precision    recall  f1-score   support\n",
            "\n",
            "          BP       0.71      1.00      0.83        89\n",
            "          MP       1.00      0.00      0.00        12\n",
            "          LP       1.00      0.00      0.00        24\n",
            "\n",
            "    accuracy                           0.71       125\n",
            "   macro avg       0.90      0.33      0.28       125\n",
            "weighted avg       0.79      0.71      0.59       125\n",
            "\n"
          ]
        }
      ]
    },
    {
      "cell_type": "code",
      "source": [
        "# Assuming X is your input data and y is the corresponding labels\n",
        "svm_model = SVC()\n",
        "svm_model.fit(X, y)\n",
        "\n",
        "# Calculate feature importances using permutation importance\n",
        "result = permutation_importance(svm_model, X, y, n_repeats=10, random_state=42)\n",
        "\n",
        "# Retrieve the importances and feature names\n",
        "impfeature = result.importances_mean\n",
        "feature_names = X.columns\n",
        "\n",
        "# Print the top features and their importances\n",
        "indices = impfeature.argsort()[::-1]\n",
        "\n",
        "for idx in indices:\n",
        "  print(f\"{feature_names[idx]}: {impfeature[idx]}\")"
      ],
      "metadata": {
        "colab": {
          "base_uri": "https://localhost:8080/",
          "height": 0
        },
        "id": "H3uREvECbUE4",
        "outputId": "a1dc7062-99d6-40fc-9d26-6e314534f516"
      },
      "execution_count": 152,
      "outputs": [
        {
          "output_type": "stream",
          "name": "stdout",
          "text": [
            "Analytical Skills 3: 0.0\n",
            "Analytical Skills 2: 0.0\n",
            "Name: 0.0\n",
            "Number of characters in Original Name: 0.0\n",
            "Month of Birth: 0.0\n",
            "Year of Birth: 0.0\n",
            "Gender: 0.0\n",
            "State (Location): 0.0\n",
            "10th percentage: 0.0\n",
            "12th percentage: 0.0\n",
            "10th Completion Year: 0.0\n",
            "12th Completion year: 0.0\n",
            "Degree of study: 0.0\n",
            "Specialization in study: 0.0\n",
            "College percentage: 0.0\n",
            "Year of Completion of college: 0.0\n",
            "English 1: 0.0\n",
            "English 2: 0.0\n",
            "English 3: 0.0\n",
            "English 4: 0.0\n",
            "Quantitative Ability 1: 0.0\n",
            "Quantitative Ability 2: 0.0\n",
            "Quantitative Ability 3: 0.0\n",
            "Quantitative Ability 4: 0.0\n",
            "Domain Skills 1: 0.0\n",
            "Domain Skills 2: 0.0\n",
            "Domain Test 3: 0.0\n",
            "Domain Test 4: 0.0\n",
            "Analytical Skills 1: 0.0\n",
            "Candidate ID: 0.0\n"
          ]
        }
      ]
    }
  ]
}